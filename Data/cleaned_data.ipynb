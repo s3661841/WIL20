{
 "cells": [
  {
   "cell_type": "code",
   "execution_count": 3,
   "metadata": {},
   "outputs": [],
   "source": [
    "import pandas as pd\n",
    "import glob\n"
   ]
  },
  {
   "cell_type": "code",
   "execution_count": 4,
   "metadata": {},
   "outputs": [],
   "source": [
    "# Define the path to the folder containing the CSV files\n",
    "folder_path = 'CleanedTemp_WithStations/*.csv'\n",
    "\n",
    "# Use glob to get all CSV file paths\n",
    "csv_files = glob.glob(folder_path)\n",
    "\n",
    "# Read all CSV files into a list of DataFrames\n",
    "dataframes = [pd.read_csv(file) for file in csv_files]\n",
    "\n",
    "# Calculate the averages for each station and create a new dataset\n",
    "averages_list = []\n",
    "for df in dataframes:\n",
    "    site_number = df['site number'].iloc[0]  # Assuming 'Site Number' column exists\n",
    "    site_name = df['site name'].iloc[0]  # Assuming 'Station' column exists\n",
    "    avg_max_temp = round(df['maximum temperature (degC)'].mean())\n",
    "    avg_min_temp = round(df['minimum temperature (degC)'].mean())\n",
    "    avg_mean_temp = round(df['mean temperature (degC)'].mean())\n",
    "    latitude = df['Latitude °S'].iloc[0]\n",
    "    longitude = df['Longitude °E'].iloc[0]\t\n",
    "    elevation = df['Elevation'].iloc[0]\t\n",
    "    classification = df['Koppen Classification'].iloc[0]\n",
    "\n",
    "    \n",
    "    # Create a dictionary for the station's averages and other data\n",
    "    station_data = {\n",
    "        'site number': site_number,\n",
    "        'site name': site_name,\n",
    "        'avg max temp (degC)': avg_max_temp,\n",
    "        'avg min temp (degC)': avg_min_temp,\n",
    "        'avg mean temp (degC)': avg_mean_temp,\n",
    "        'Latitude': latitude,\n",
    "        'Longitude': longitude,\n",
    "        'Elevation': elevation,\n",
    "        'Koppen Classification': classification\n",
    "    }\n",
    "    averages_list.append(station_data)\n",
    "\n",
    "# Create a new DataFrame with the averages\n",
    "averages_df = pd.DataFrame(averages_list)\n",
    "\n",
    "# Display the new DataFrame with averages\n",
    "averages_df.head()\n",
    "\n",
    "# Export the averages DataFrame to a CSV file\n",
    "averages_df.to_csv('averages_by_station.csv', index=False)"
   ]
  }
 ],
 "metadata": {
  "kernelspec": {
   "display_name": "Python 3",
   "language": "python",
   "name": "python3"
  },
  "language_info": {
   "codemirror_mode": {
    "name": "ipython",
    "version": 3
   },
   "file_extension": ".py",
   "mimetype": "text/x-python",
   "name": "python",
   "nbconvert_exporter": "python",
   "pygments_lexer": "ipython3",
   "version": "3.10.12"
  }
 },
 "nbformat": 4,
 "nbformat_minor": 2
}
